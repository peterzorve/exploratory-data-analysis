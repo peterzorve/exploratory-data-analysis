{
 "cells": [
  {
   "cell_type": "code",
   "execution_count": 17,
   "metadata": {},
   "outputs": [],
   "source": [
    "import streamlit as st"
   ]
  },
  {
   "cell_type": "code",
   "execution_count": 18,
   "metadata": {},
   "outputs": [],
   "source": [
    "header = st.beta_container()\n",
    "dataset = st.beta_container()\n",
    "features = st.beta_container()\n",
    "model_training = st.beta_container()\n",
    "predictions = st.beta_container()\n",
    "\n",
    "with header:\n",
    "     st.title('WELCOME TO TRAFIC FORECASTING')\n",
    "     st.text('Trafic projection in 8 directions')\n",
    "\n",
    "with dataset:\n",
    "     st.header('Trafic Dataset')\n",
    "     st.text('Trafic')\n",
    "\n",
    "with features:\n",
    "     st.header('New project')\n",
    "\n",
    "\n",
    "with model_training:\n",
    "     st.header('Train of Model')\n",
    "     st.text('Choose the hyperparameters')"
   ]
  }
 ],
 "metadata": {
  "interpreter": {
   "hash": "97b91b6d5003af60c654b6abfe8ac1e5d274e52e67a717d7df64331168b10d1c"
  },
  "kernelspec": {
   "display_name": "Python 3.8.12 ('pz')",
   "language": "python",
   "name": "python3"
  },
  "language_info": {
   "codemirror_mode": {
    "name": "ipython",
    "version": 3
   },
   "file_extension": ".py",
   "mimetype": "text/x-python",
   "name": "python",
   "nbconvert_exporter": "python",
   "pygments_lexer": "ipython3",
   "version": "3.8.12"
  },
  "orig_nbformat": 4
 },
 "nbformat": 4,
 "nbformat_minor": 2
}
